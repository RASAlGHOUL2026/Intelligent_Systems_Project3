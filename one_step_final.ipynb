{
  "cells": [
    {
      "cell_type": "markdown",
      "source": [
        "**~ Import necessary modules and libraries ~**"
      ],
      "metadata": {
        "id": "Yyr_tqE-K8qr"
      },
      "id": "Yyr_tqE-K8qr"
    },
    {
      "cell_type": "code",
      "execution_count": null,
      "id": "571ca3b8",
      "metadata": {
        "id": "571ca3b8"
      },
      "outputs": [],
      "source": [
        "#import modules\n",
        "!pip install gradio\n",
        "!pip install playsound\n",
        "import os\n",
        "import cv2\n",
        "import matplotlib.pyplot as plt\n",
        "import numpy as np\n",
        "import tensorflow as tf\n",
        "from tensorflow.keras.layers import Flatten, Dense\n",
        "from tensorflow.keras.models import load_model\n",
        "import functools\n",
        "from sklearn.metrics import confusion_matrix\n",
        "import gradio as gr\n",
        "from google.colab import drive"
      ]
    },
    {
      "cell_type": "markdown",
      "source": [
        "**~ Mount your google drive ~**\n"
      ],
      "metadata": {
        "id": "VIjfDWja75LL"
      },
      "id": "VIjfDWja75LL"
    },
    {
      "cell_type": "code",
      "source": [
        "drive.mount('/content/drive')"
      ],
      "metadata": {
        "id": "PHlJ8jiX0Fmg"
      },
      "id": "PHlJ8jiX0Fmg",
      "execution_count": null,
      "outputs": []
    },
    {
      "cell_type": "markdown",
      "source": [
        "**~ Function definition ~**"
      ],
      "metadata": {
        "id": "5vjZxhHG7_bG"
      },
      "id": "5vjZxhHG7_bG"
    },
    {
      "cell_type": "code",
      "execution_count": null,
      "id": "9d88c4ba",
      "metadata": {
        "id": "9d88c4ba"
      },
      "outputs": [],
      "source": [
        "#This function will be used to swap the labels of the training dataset 2 in order to follow the correct labelling map\n",
        "def swap(label): \n",
        "    swap = {\n",
        "        0: 0,\n",
        "        1: 2,\n",
        "        2: 1,\n",
        "    }\n",
        "\n",
        "    return swap.get(label)\n",
        "\n",
        "#Used for maping later on\n",
        "def label_box_format(x, y1, y2): \n",
        "    return x, {\"class_label\": y1, \"bounding_box\": y2}\n",
        "\n",
        "#This function turns normal dataset into tensorflow dataset\n",
        "def tf_dataset(train_or_val_or_test): \n",
        "    images = []\n",
        "    fall_sit_walk = []\n",
        "    bounding_boxes = []\n",
        "    \n",
        "    if train_or_val_or_test == \"train\":\n",
        "      images_path1 = DATASET + \"images/\" + train_or_val_or_test + \"/train1/\"\n",
        "      labels_path1 = DATASET + \"labels/\" + train_or_val_or_test + \"/train1/\"\n",
        "      images_path_list1 = os.listdir(images_path1) #list of all images' name\n",
        "      labels_path_list1 = os.listdir(labels_path1) #list of all labels' file name\n",
        "\n",
        "      images_path2 = DATASET + \"images/\" + train_or_val_or_test + \"/train2/\"\n",
        "      labels_path2 = DATASET + \"labels/\" + train_or_val_or_test + \"/train2/\"\n",
        "      images_path_list2 = os.listdir(images_path2) #list of all images' name\n",
        "      labels_path_list2 = os.listdir(labels_path2) #list of all labels' file name\n",
        "\n",
        "      #change from names into paths\n",
        "      #train1\n",
        "      for index in range(len(images_path_list1)):\n",
        "          images_path_list1[index] = images_path1 + images_path_list1[index] \n",
        "          labels_path_list1[index] = labels_path1 + labels_path_list1[index]\n",
        "      #train2\n",
        "      for index in range(len(images_path_list2)):\n",
        "          images_path_list2[index] = images_path2 + images_path_list2[index] \n",
        "          labels_path_list2[index] = labels_path2 + labels_path_list2[index]\n",
        "      \n",
        "      #append data\n",
        "      #train1\n",
        "      for index in range(len(images_path_list1)):\n",
        "          image = cv2.imread(images_path_list1[index])\n",
        "          image = cv2.resize(image, (IMAGE_SIZE,IMAGE_SIZE))\n",
        "          \n",
        "          with open(labels_path_list1[index]) as file:\n",
        "              lines = file.readlines()\n",
        "          \n",
        "              for line in lines:\n",
        "                  labels = line.split()\n",
        "\n",
        "                  one_hot = tf.one_hot([0, 1, 2], 3) #three classes\n",
        "                  \n",
        "                  class_label = one_hot[int(labels[0]),]\n",
        "                      \n",
        "                  coords = [float(x) for x in labels[1:]]\n",
        "                  \n",
        "                  images.append(image) #append same image if multiple bounding boxes and labels\n",
        "                  fall_sit_walk.append(class_label)\n",
        "                  bounding_boxes.append(coords)\n",
        "\n",
        "      #train2\n",
        "      for index in range(len(images_path_list2)):\n",
        "          image = cv2.imread(images_path_list2[index])\n",
        "          image = cv2.resize(image, (IMAGE_SIZE,IMAGE_SIZE))\n",
        "          \n",
        "          with open(labels_path_list2[index]) as file:\n",
        "              lines = file.readlines()\n",
        "          \n",
        "              for line in lines:\n",
        "                  labels = line.split()\n",
        "\n",
        "                  one_hot = tf.one_hot([0, 1, 2], 3) #three classes\n",
        "                  \n",
        "                  class_label = one_hot[swap(int(labels[0])),] #swap labels\n",
        "                      \n",
        "                  coords = [float(x) for x in labels[1:]]\n",
        "                  \n",
        "                  images.append(image) #append same image if multiple bounding boxes and labels\n",
        "                  fall_sit_walk.append(class_label)\n",
        "                  bounding_boxes.append(coords)\n",
        "\n",
        "    else:\n",
        "      images_path = DATASET + \"images/\" + train_or_val_or_test + \"/\"\n",
        "      labels_path = DATASET + \"labels/\" + train_or_val_or_test + \"/\"\n",
        "      images_path_list = os.listdir(images_path) #list of all images' name\n",
        "      labels_path_list = os.listdir(labels_path) #list of all labels' file name\n",
        "    \n",
        "      #create paths\n",
        "      for index in range(len(images_path_list)):\n",
        "          images_path_list[index] = images_path + images_path_list[index] \n",
        "          labels_path_list[index] = labels_path + labels_path_list[index]\n",
        "      \n",
        "      #append data to the lists\n",
        "      for index in range(len(images_path_list)):\n",
        "          image = cv2.imread(images_path_list[index])\n",
        "          image = cv2.resize(image, (IMAGE_SIZE,IMAGE_SIZE))\n",
        "          \n",
        "          with open(labels_path_list[index]) as file:\n",
        "              lines = file.readlines()\n",
        "          \n",
        "              for line in lines:\n",
        "                  labels = line.split()\n",
        "\n",
        "                  one_hot = tf.one_hot([0, 1, 2], 3) #three classes\n",
        "                  \n",
        "                  class_label = one_hot[int(labels[0]),]\n",
        "                      \n",
        "                  coords = [float(x) for x in labels[1:]]\n",
        "                  \n",
        "                  images.append(image) \n",
        "                  fall_sit_walk.append(class_label)\n",
        "                  bounding_boxes.append(coords)\n",
        "                \n",
        "    images = np.array(images)\n",
        "    fall_sit_walk = np.array(fall_sit_walk)\n",
        "    bounding_boxes = np.array(bounding_boxes)\n",
        "    \n",
        "    print(\"Formed \" + train_or_val_or_test + \" dataset with \" + str(len(images)) + \" images into batches of \" + str(BATCH_SIZE))\n",
        "    \n",
        "    return tf.data.Dataset.from_tensor_slices((images, fall_sit_walk, bounding_boxes)).map(label_box_format).shuffle(100).batch(BATCH_SIZE) \n",
        "  \n",
        "#This function will be used by the gradio GUI in order to display the prediction of the model\n",
        "def classify_image(input_image): \n",
        "    fall_detected = False\n",
        "\n",
        "    #input_image = np.array(input_image) \n",
        "    input_image = cv2.resize(input_image, (180,180)) \n",
        "    image = np.expand_dims(input_image, axis=0)\n",
        "    \n",
        "    preds = model.predict(image) \n",
        "    print(preds) \n",
        "\n",
        "    class_index = np.argmax(preds[0][0]) \n",
        "    class_label = CLASS_NAMES[class_index] \n",
        "    confidence = preds[0][0][class_index]\n",
        "    label = f\"Class: {class_label}, Confidence: {confidence:.2f}\"\n",
        "    \n",
        "    output_image = input_image\n",
        "    image_height, image_width, _ = output_image.shape \n",
        "    c_x, c_y, w, h = preds[1][0] \n",
        "    x = int(c_x*image_width - w*image_width/2); y = int(c_y*image_height - h*image_height/2) \n",
        "    \n",
        "   \n",
        "    cv2.rectangle(output_image, (x, y), (x+int(w*image_width), y+int(h*image_height)), (0,0,255), 1)\n",
        "    cv2.putText(output_image, class_label, (x, y), cv2.FONT_HERSHEY_PLAIN, 2.0, (0,0,255), 2)\n",
        "    \n",
        "    for i in range(len(CLASS_NAMES)): \n",
        "        class_label = CLASS_NAMES[i]\n",
        "        confidence = preds[0][0][i]\n",
        "        print(f\"Class: {class_label}, Confidence: {confidence:.2f}\")\n",
        "    \n",
        "\n",
        "    return [output_image,label,preds] "
      ]
    },
    {
      "cell_type": "markdown",
      "source": [
        "**~ TRAINING MODULE ~**"
      ],
      "metadata": {
        "id": "z5Ru6scZNxuv"
      },
      "id": "z5Ru6scZNxuv"
    },
    {
      "cell_type": "code",
      "execution_count": null,
      "id": "3c297a9e",
      "metadata": {
        "id": "3c297a9e"
      },
      "outputs": [],
      "source": [
        "#Basic settings\n",
        "DATASET = '/content/drive/MyDrive/COS30018_FallDetection_dataset/'\n",
        "IMAGE_SIZE = 200\n",
        "CHANNELS = 3\n",
        "BATCH_SIZE = 16\n",
        "EPOCHS = 15\n",
        "LEARNING_RATE = 0.001\n",
        "CLASS_NAMES = [\"fall\", \"walk\", \"sit\"]\n",
        "\n",
        "#tf dataset formation\n",
        "print(\"Forming datasets...\")\n",
        "train_data = tf_dataset(\"train\")\n",
        "val_data = tf_dataset(\"test\")\n",
        "test_data = tf_dataset(\"val\")\n",
        "\n",
        "#Model implementation\n",
        "pretrained_model = tf.keras.applications.ResNet50(\n",
        "    include_top=False,\n",
        "    input_shape=(IMAGE_SIZE,IMAGE_SIZE,CHANNELS),\n",
        "    pooling=\"avg\",\n",
        "    classes=3,\n",
        "    weights=\"imagenet\")\n",
        "\n",
        "#Freeze model layers\n",
        "for layer in pretrained_model.layers:\n",
        "    layer.trainable = False\n",
        "\n",
        "flatten = pretrained_model.output\n",
        "flatten = Flatten()(flatten)\n",
        "\n",
        "#Classification head\n",
        "classifier = Dense(512, activation=\"relu\")(flatten)\n",
        "classifier = Dense(256, activation=\"relu\")(classifier)\n",
        "classifier = Dense(128, activation=\"relu\")(classifier)\n",
        "classifier = Dense(3, activation=\"softmax\", name=\"class_label\")(classifier) \n",
        "\n",
        "#Bounding box regression head\n",
        "boxes = Dense(128, activation=\"relu\")(flatten)\n",
        "boxes = Dense(64, activation=\"relu\")(boxes)\n",
        "boxes = Dense(32, activation=\"relu\")(boxes)\n",
        "boxes = Dense(4, activation=\"sigmoid\", name=\"bounding_box\")(boxes) \n",
        "\n",
        "#Create final model with two heads\n",
        "model = tf.keras.models.Model(\n",
        "    inputs=pretrained_model.input,\n",
        "    outputs=(classifier,boxes)\n",
        ")\n",
        "\n",
        "#compile model\n",
        "losses = {\n",
        "    \"class_label\": tf.keras.losses.CategoricalCrossentropy(),\n",
        "    \"bounding_box\": tf.keras.losses.MeanSquaredError()\n",
        "}\n",
        "\n",
        "model.compile(optimizer=tf.keras.optimizers.Adam(learning_rate=LEARNING_RATE), \n",
        "              loss=losses, metrics=[tf.keras.metrics.CategoricalAccuracy()])\n",
        "\n",
        "#train model\n",
        "history = model.fit(train_data, validation_data=(val_data), epochs=EPOCHS)\n",
        "\n",
        "#Accuracy labels\n",
        "plt.figure(figsize=(8, 8))\n",
        "epochs_range = range(EPOCHS)\n",
        "\n",
        "plt.plot(epochs_range, history.history[\"class_label_categorical_accuracy\"], label=\"Training Accuracy (Class)\")\n",
        "plt.plot(epochs_range, history.history[\"val_class_label_categorical_accuracy\"], label=\"Validation Accuracy (Class)\")\n",
        "plt.axis(ymin=0.3, ymax=1); plt.grid()\n",
        "plt.title(\"Model Accuracy (Class)\")\n",
        "plt.xlabel(\"Epochs\"); plt.ylabel(\"Accuracy\")\n",
        "plt.legend([\"train\", \"validation\"])\n",
        "\n",
        "plt.show()\n",
        "\n",
        "#Accuracy boxes\n",
        "plt.figure(figsize=(8, 8))\n",
        "epochs_range = range(EPOCHS)\n",
        "\n",
        "plt.plot(epochs_range, history.history[\"bounding_box_categorical_accuracy\"], label=\"Training Accuracy (Boxes)\")\n",
        "plt.plot(epochs_range, history.history[\"val_bounding_box_categorical_accuracy\"], label=\"Validation Accuracy (Boxes)\")\n",
        "plt.axis(ymin=0.3, ymax=1); plt.grid()\n",
        "plt.title(\"Model Accuracy (Boxes)\")\n",
        "plt.xlabel(\"Epochs\"); plt.ylabel(\"Accuracy\")\n",
        "plt.legend([\"train\", \"validation\"])\n",
        "\n",
        "plt.show()\n",
        "\n",
        "\n",
        "print()\n",
        "\n",
        "#save model\n",
        "model.save(\"/content/drive/MyDrive/COS30018_FallDetection_dataset/one-step_model.h5\")"
      ]
    },
    {
      "cell_type": "markdown",
      "source": [
        "**~ Categorical accuracy & Confusion matrix ~**"
      ],
      "metadata": {
        "id": "Bbe-yOs0H1-J"
      },
      "id": "Bbe-yOs0H1-J"
    },
    {
      "cell_type": "code",
      "execution_count": null,
      "id": "c5b14305",
      "metadata": {
        "id": "c5b14305"
      },
      "outputs": [],
      "source": [
        "model_score = model.evaluate(test_data)\n",
        "print(\"Class label categorical accuracy:\", round(model_score[3], 3)*100, \"%\")\n",
        "\n",
        "test_images = []\n",
        "test_labels = []\n",
        "\n",
        "for b in test_data:\n",
        "    for i in range(BATCH_SIZE):\n",
        "        try:\n",
        "            test_images.append(b[0][i]) \n",
        "            test_labels.append(b[1][\"class_label\"][i]) \n",
        "            \n",
        "        except:\n",
        "            pass \n",
        "\n",
        "\n",
        "preds = model.predict(np.array(test_images))\n",
        "\n",
        "predicted_labels = np.argmax(preds[0], axis=1)\n",
        "\n",
        "cm = confusion_matrix(np.argmax(test_labels, axis=1), predicted_labels)\n",
        "print(cm) "
      ]
    },
    {
      "cell_type": "markdown",
      "source": [
        "**~ Predicted bounding box & class label of the testing dataset ~**"
      ],
      "metadata": {
        "id": "TdqGAougOQZw"
      },
      "id": "TdqGAougOQZw"
    },
    {
      "cell_type": "code",
      "execution_count": null,
      "id": "f5fecb11",
      "metadata": {
        "id": "f5fecb11"
      },
      "outputs": [],
      "source": [
        "\n",
        "for i in range(len(test_images)):\n",
        "    test_image = np.array(test_images[i])\n",
        "    image_height, image_width, _ = test_image.shape \n",
        "    c_x, c_y, w, h = preds[1][i] \n",
        "    x = int(c_x*image_width - w*image_width/2); y = int(c_y*image_height - h*image_height/2) \n",
        "    \n",
        "    #show predicted bounding box\n",
        "    cv2.rectangle(test_image, (x, y), (x+int(w*image_width), y+int(h*image_height)), (0,0,255), 1)\n",
        "    #show predicted class label\n",
        "    cv2.putText(test_image, CLASS_NAMES[np.argmax(preds[0][i])], (x, y), cv2.FONT_HERSHEY_PLAIN, 2.0, (0,0,255), 2)\n",
        "\n",
        "\n",
        "    plt.figure(figsize=(8, 8))\n",
        "    plt.title(\"Predicted\")\n",
        "    test_image = cv2.cvtColor(test_image, cv2.COLOR_BGR2RGB)\n",
        "    plt.imshow(test_image)\n",
        "\n",
        "    plt.show()"
      ]
    },
    {
      "cell_type": "markdown",
      "source": [
        "**~ Gradio GUI ~**"
      ],
      "metadata": {
        "id": "OvHbvTE0Hkem"
      },
      "id": "OvHbvTE0Hkem"
    },
    {
      "cell_type": "code",
      "execution_count": null,
      "id": "33b5cef8",
      "metadata": {
        "id": "33b5cef8"
      },
      "outputs": [],
      "source": [
        "input_image = gr.components.Image(label=\"Input\")\n",
        "output_image = gr.components.Image(label=\"Bounding Box\")\n",
        "label = gr.components.Label(label=\"Label\", num_top_classes=3)\n",
        "\n",
        "iface = gr.Interface(fn=classify_image, inputs=input_image, outputs=[output_image,label])\n",
        "iface.launch(share=False)"
      ]
    }
  ],
  "metadata": {
    "kernelspec": {
      "display_name": "Python 3 (ipykernel)",
      "language": "python",
      "name": "python3"
    },
    "language_info": {
      "codemirror_mode": {
        "name": "ipython",
        "version": 3
      },
      "file_extension": ".py",
      "mimetype": "text/x-python",
      "name": "python",
      "nbconvert_exporter": "python",
      "pygments_lexer": "ipython3",
      "version": "3.9.12"
    },
    "colab": {
      "provenance": [],
      "gpuType": "T4"
    },
    "accelerator": "GPU",
    "gpuClass": "standard"
  },
  "nbformat": 4,
  "nbformat_minor": 5
}